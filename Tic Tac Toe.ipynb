{
 "cells": [
  {
   "cell_type": "code",
   "execution_count": 1,
   "metadata": {},
   "outputs": [],
   "source": [
    "# My Fisrt Project: Tic Tac Toe (Jogo da Velha)\n",
    "from IPython.display import clear_output"
   ]
  },
  {
   "cell_type": "code",
   "execution_count": 2,
   "metadata": {},
   "outputs": [],
   "source": [
    "# Display Board Instructions to user\n",
    "def display_board(boardDictionary):    \n",
    "    print(\"\".join(boardDictionary['1']))\n",
    "    print(\"\".join(boardDictionary['0']))\n",
    "    print(\"\".join(boardDictionary['2']))\n",
    "    print(\"\".join(boardDictionary['0']))\n",
    "    print(\"\".join(boardDictionary['3']))    "
   ]
  },
  {
   "cell_type": "code",
   "execution_count": 3,
   "metadata": {},
   "outputs": [],
   "source": [
    "# Create the board\n",
    "def create_empty_board():   \n",
    "    board = {\"0\":[\"---\",\"|\",\"---\",\"|\",\"---\"],\n",
    "             \"1\":[\"   \",\"|\",\"   \",\"|\",\"   \"],\n",
    "             \"2\":[\"   \",\"|\",\"   \",\"|\",\"   \"],\n",
    "             \"3\":[\"   \",\"|\",\"   \",\"|\",\"   \"]}\n",
    "    return board"
   ]
  },
  {
   "cell_type": "code",
   "execution_count": 4,
   "metadata": {},
   "outputs": [],
   "source": [
    "def display_initial_board():   \n",
    "    board = {\"0\":[\"---\",\"|\",\"---\",\"|\",\"---\"],\n",
    "             \"3\":[\" 1 \",\"|\",\" 2 \",\"|\",\" 3 \"],\n",
    "             \"2\":[\" 4 \",\"|\",\" 5 \",\"|\",\" 6 \"],\n",
    "             \"1\":[\" 7 \",\"|\",\" 8 \",\"|\",\" 9 \"]}\n",
    "    print(\"Welcome to Tic Tac Toe!\\nThe numbers 1-9 correspond to the position on the board.\\n\")\n",
    "    display_board(board)"
   ]
  },
  {
   "cell_type": "code",
   "execution_count": 5,
   "metadata": {},
   "outputs": [],
   "source": [
    "# Player selection to be X or O\n",
    "def define_players():\n",
    "    player1 = \"NEW\"\n",
    "    while player1 not in (\"X\",\"O\"):\n",
    "        player1 = input(\"\\nPlayer 1: Choose 'X' or 'O': \").upper()\n",
    "        if(player1 not in (\"X\",\"O\")):\n",
    "            if(player1 == '0'):\n",
    "                print(\"Wrong input, select letter 'O' instead of 0.\\nPlease select 'X' or 'O'.\")                \n",
    "            else:\n",
    "                print(\"Wrong input. Please select 'X' or 'O'.\")            \n",
    "    if(player1 == \"X\"):\n",
    "        player2 = \"O\"\n",
    "    else:\n",
    "        player2 = \"X\"\n",
    "    print(\"The starting player will be randomly selected.\\n\")\n",
    "    return [(player1,\"Player 1\"),(player2,\"Player 2\")]            "
   ]
  },
  {
   "cell_type": "code",
   "execution_count": 6,
   "metadata": {},
   "outputs": [],
   "source": [
    "# Check Results\n",
    "def check_results(board):\n",
    "    results = [[board[\"1\"][0],board[\"1\"][2],board[\"1\"][4]],\n",
    "           [board[\"2\"][0],board[\"2\"][2],board[\"2\"][4]],\n",
    "           [board[\"3\"][0],board[\"3\"][2],board[\"3\"][4]]]\n",
    "    x = [' X ',' X ',' X ']\n",
    "    o = [' O ',' O ',' O ']\n",
    "    i = 0\n",
    "    winner = False\n",
    "    player = \"None\"\n",
    "    while (i < 3 and not winner ):\n",
    "        if (x == [results[i][0],results[i][1],results[i][2]]\n",
    "           or o == [results[i][0],results[i][1],results[i][2]]):            \n",
    "            winner = True\n",
    "            player = results[i][0].replace(\" \",\"\")\n",
    "            return [winner,player]\n",
    "        elif (x == [results[0][i],results[1][i],results[2][i]]\n",
    "           or o == [results[0][i],results[1][i],results[2][i]]):\n",
    "            winner = True\n",
    "            player = results[0][i].replace(\" \",\"\")\n",
    "            return [winner,player]\n",
    "        elif (x == [results[0][0],results[1][1],results[2][2]]\n",
    "           or o == [results[0][0],results[1][1],results[2][2]]):\n",
    "            winner = True\n",
    "            player = results[0][0].replace(\" \",\"\") \n",
    "            return [winner,player]\n",
    "        elif (x == [results[2][0],results[1][1],results[0][2]]\n",
    "           or o == [results[2][0],results[1][1],results[0][2]]):\n",
    "            winner = True\n",
    "            player = results[0][0].replace(\" \",\"\")  \n",
    "            return [winner,player]\n",
    "        i += 1\n",
    "        \n",
    "    if(not winner):\n",
    "        return [winner,player]"
   ]
  },
  {
   "cell_type": "code",
   "execution_count": 7,
   "metadata": {},
   "outputs": [],
   "source": [
    "def select_position(currentPlayer,availablePosition):\n",
    "    validate = False\n",
    "    while (not validate):\n",
    "        pickedPosition = input(f\"{currentPlayer} pick a position: \")\n",
    "        if(not pickedPosition.isnumeric()):\n",
    "            print(\"Please select a number from 1-9\")\n",
    "        elif(int(pickedPosition) not in range(0,10)):\n",
    "            print(\"Please select a number from 1-9\")          \n",
    "        elif(int(pickedPosition) not in availablePosition):\n",
    "            print(\"Position already selected. Please choose another one.\")               \n",
    "        else:\n",
    "            pickedPosition = int(pickedPosition)\n",
    "            return pickedPosition"
   ]
  },
  {
   "cell_type": "code",
   "execution_count": 8,
   "metadata": {},
   "outputs": [],
   "source": [
    "import random\n",
    "# Start Game\n",
    "def tic_tac_toe():   \n",
    "    #Start the gaame\n",
    "    repeat = True\n",
    "    while (repeat):\n",
    "        ## Initialize game\n",
    "        display_initial_board()\n",
    "        board = create_empty_board()\n",
    "        players = define_players()\n",
    "        i = random.randint(0,1)\n",
    "        j = 1\n",
    "        availablePosition = [1,2,3,4,5,6,7,8,9]\n",
    "        winner = False\n",
    "        while (len(availablePosition) > 0 and not winner):\n",
    "            currentPlayer = players[i][1]\n",
    "            pickedPosition = select_position(currentPlayer,availablePosition)\n",
    "            availablePosition.pop(availablePosition.index(pickedPosition))        \n",
    "            clear_output(wait=True)\n",
    "\n",
    "            if(pickedPosition == 7):\n",
    "                board[\"1\"][0] = \" \"+players[i][0]+\" \"\n",
    "            elif(pickedPosition == 8):\n",
    "                board[\"1\"][2] = \" \"+players[i][0]+\" \"\n",
    "            elif(pickedPosition == 9):\n",
    "                board[\"1\"][4] = \" \"+players[i][0]+\" \"\n",
    "            elif(pickedPosition == 4):\n",
    "                board[\"2\"][0] = \" \"+players[i][0]+\" \"\n",
    "            elif(pickedPosition == 5):\n",
    "                board[\"2\"][2] = \" \"+players[i][0]+\" \"\n",
    "            elif(pickedPosition == 6):\n",
    "                board[\"2\"][4] = \" \"+players[i][0]+\" \"\n",
    "            elif(pickedPosition == 1):\n",
    "                board[\"3\"][0] = \" \"+players[i][0]+\" \"\n",
    "            elif(pickedPosition == 2):\n",
    "                board[\"3\"][2] = \" \"+players[i][0]+\" \"\n",
    "            elif(pickedPosition == 3):\n",
    "                board[\"3\"][4] = \" \"+players[i][0]+\" \"   \n",
    "            \n",
    "            display_initial_board()\n",
    "            print(f\"\\n{players[0][1]} = {players[0][0]} - {players[1][1]} = {players[1][0]}.\\n\")\n",
    "            display_board(board)\n",
    "            if(j >= 5):\n",
    "                result = check_results(board)\n",
    "                if(result[0] == True):                    \n",
    "                    print(f\"\\n{players[i][1]} Won! =) \\n\")\n",
    "                    winner = True\n",
    "            if (i == 0):\n",
    "                i = 1\n",
    "            else:\n",
    "                i = 0                    \n",
    "            j += 1\n",
    "        if(not winner):\n",
    "            print(\"\\nIt's a draw. Beter luck next time!\\n\")\n",
    "        print(\"Do you want to play again?\")\n",
    "        playAgain = input(\"Type 'Y' to play again. Type any other character to exit. \")\n",
    "        if(playAgain != \"Y\" and playAgain != \"y\"):        \n",
    "            repeat = False\n",
    "            print(\"\\nThank you for playing.\\nSee you next time!\")\n",
    "        else:\n",
    "            clear_output(wait=False)\n",
    "        \n",
    "    "
   ]
  },
  {
   "cell_type": "code",
   "execution_count": 9,
   "metadata": {},
   "outputs": [
    {
     "name": "stdout",
     "output_type": "stream",
     "text": [
      "Welcome to Tic Tac Toe!\n",
      "The numbers 1-9 correspond to the position on the board.\n",
      "\n",
      " 7 | 8 | 9 \n",
      "---|---|---\n",
      " 4 | 5 | 6 \n",
      "---|---|---\n",
      " 1 | 2 | 3 \n",
      "\n",
      "Player 1 = X - Player 2 = O.\n",
      "\n",
      "   | O | O \n",
      "---|---|---\n",
      "   | O |   \n",
      "---|---|---\n",
      " X | X | X \n",
      "\n",
      "Player 1 Won! =) \n",
      "\n",
      "Do you want to play again?\n",
      "Type 'Y' to play again. Type any other character to exit. \n",
      "\n",
      "Thank you for playing.\n",
      "See you next time!\n"
     ]
    }
   ],
   "source": [
    "tic_tac_toe()"
   ]
  },
  {
   "cell_type": "code",
   "execution_count": null,
   "metadata": {},
   "outputs": [],
   "source": []
  },
  {
   "cell_type": "code",
   "execution_count": null,
   "metadata": {},
   "outputs": [],
   "source": []
  }
 ],
 "metadata": {
  "kernelspec": {
   "display_name": "Python 3",
   "language": "python",
   "name": "python3"
  },
  "language_info": {
   "codemirror_mode": {
    "name": "ipython",
    "version": 3
   },
   "file_extension": ".py",
   "mimetype": "text/x-python",
   "name": "python",
   "nbconvert_exporter": "python",
   "pygments_lexer": "ipython3",
   "version": "3.7.6"
  }
 },
 "nbformat": 4,
 "nbformat_minor": 4
}
